{
 "cells": [
  {
   "cell_type": "code",
   "execution_count": 1,
   "metadata": {},
   "outputs": [
    {
     "data": {
      "application/vnd.jupyter.widget-view+json": {
       "model_id": "823e2ca9dd3c4bfaa12e5c3984433406",
       "version_major": 2,
       "version_minor": 0
      },
      "text/plain": [
       "interactive(children=(Dropdown(description='Year:', options=(2000, 2005, 2010, 2015, 2020), value=2000), Outpu…"
      ]
     },
     "metadata": {},
     "output_type": "display_data"
    },
    {
     "data": {
      "text/plain": [
       "<function __main__.plot_bubble_chart(year)>"
      ]
     },
     "execution_count": 1,
     "metadata": {},
     "output_type": "execute_result"
    }
   ],
   "source": [
    "import matplotlib.pyplot as plt\n",
    "import pandas as pd\n",
    "import ipywidgets as widgets\n",
    "from ipywidgets import interact\n",
    "\n",
    "# Sample data for Life Expectancy, Income, Population, and Year\n",
    "data = {\n",
    "    'Year': [2000, 2005, 2010, 2015, 2020],\n",
    "    'Life Expectancy': [70, 72, 74, 76, 78],\n",
    "    'Income': [25000, 28000, 32000, 35000, 38000],\n",
    "    'Population': [6000000, 6500000, 7000000, 7500000, 8000000],  # Example population for bubble size\n",
    "}\n",
    "\n",
    "# Create DataFrame\n",
    "df = pd.DataFrame(data)\n",
    "\n",
    "# Function to plot the bubble chart based on the selected year\n",
    "def plot_bubble_chart(year):\n",
    "    # Filter the data for the selected year\n",
    "    df_year = df[df['Year'] == year]\n",
    "    \n",
    "    # Bubble chart\n",
    "    plt.figure(figsize=(8, 6))\n",
    "    plt.scatter(df_year['Income'], df_year['Life Expectancy'], \n",
    "                s=df_year['Population'] / 100000, # Bubble size is proportional to population\n",
    "                color='blue', alpha=0.5, edgecolors='black', linewidth=0.5)\n",
    "\n",
    "    # Adding labels and title\n",
    "    plt.title(f'Life Expectancy vs Income for {year}')\n",
    "    plt.xlabel('Average Income (USD)')\n",
    "    plt.ylabel('Life Expectancy (Years)')\n",
    "    \n",
    "    # Show the plot\n",
    "    plt.grid(True)\n",
    "    plt.show()\n",
    "\n",
    "# Create a dropdown widget for selecting year\n",
    "year_dropdown = widgets.Dropdown(\n",
    "    options=df['Year'],\n",
    "    value=df['Year'][0],  # default value\n",
    "    description='Year:',\n",
    "    disabled=False,\n",
    ")\n",
    "\n",
    "# Use interact to connect the dropdown to the plot function\n",
    "interact(plot_bubble_chart, year=year_dropdown)\n"
   ]
  }
 ],
 "metadata": {
  "kernelspec": {
   "display_name": "Python 3",
   "language": "python",
   "name": "python3"
  },
  "language_info": {
   "codemirror_mode": {
    "name": "ipython",
    "version": 3
   },
   "file_extension": ".py",
   "mimetype": "text/x-python",
   "name": "python",
   "nbconvert_exporter": "python",
   "pygments_lexer": "ipython3",
   "version": "3.10.4"
  }
 },
 "nbformat": 4,
 "nbformat_minor": 2
}
